{
 "cells": [
  {
   "cell_type": "code",
   "execution_count": 17,
   "id": "04dc2d6a",
   "metadata": {},
   "outputs": [
    {
     "name": "stdout",
     "output_type": "stream",
     "text": [
      "[1, 2, 0]\n"
     ]
    },
    {
     "data": {
      "text/plain": [
       "3"
      ]
     },
     "execution_count": 17,
     "metadata": {},
     "output_type": "execute_result"
    }
   ],
   "source": [
    "def sol(nums):\n",
    "    i=0\n",
    "    while(i<len(nums)):\n",
    "        correct=nums[i]-1\n",
    "        if(nums[i]>0 and nums[i]<len(nums) and nums[i]!=nums[correct]):\n",
    "            nums[i],nums[correct]=nums[correct],nums[i]\n",
    "        else:\n",
    "            i +=1\n",
    "    print(nums)\n",
    "    for i in range(len(nums)):\n",
    "        if (nums[i]!=i+1):\n",
    "            return i+1\n",
    "    return len(nums)+1\n",
    "nums=[1,2,0]            \n",
    "sol(nums)"
   ]
  }
 ],
 "metadata": {
  "kernelspec": {
   "display_name": "Python 3 (ipykernel)",
   "language": "python",
   "name": "python3"
  },
  "language_info": {
   "codemirror_mode": {
    "name": "ipython",
    "version": 3
   },
   "file_extension": ".py",
   "mimetype": "text/x-python",
   "name": "python",
   "nbconvert_exporter": "python",
   "pygments_lexer": "ipython3",
   "version": "3.11.5"
  }
 },
 "nbformat": 4,
 "nbformat_minor": 5
}
