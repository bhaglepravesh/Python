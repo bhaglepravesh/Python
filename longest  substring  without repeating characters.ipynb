{
 "cells": [
  {
   "cell_type": "code",
   "execution_count": 13,
   "id": "41e37ec4",
   "metadata": {},
   "outputs": [
    {
     "name": "stdout",
     "output_type": "stream",
     "text": [
      "dv\n"
     ]
    },
    {
     "data": {
      "text/plain": [
       "2"
      ]
     },
     "execution_count": 13,
     "metadata": {},
     "output_type": "execute_result"
    }
   ],
   "source": [
    "s2=\"\"\n",
    "s2=\" \"\n",
    "s2=\"aab\"\n",
    "s2=\"pwwkew\"\n",
    "s2=\"abcabacbb\"\n",
    "s2=\"dvdf\"\n",
    "curr_max=\"\"\n",
    "max_so_far=\"\"\n",
    "\n",
    "if len(s2)==0:\n",
    "    print(0)\n",
    "for i in range(len(s2)):\n",
    "   \n",
    "    if s2[i] in curr_max:\n",
    "        curr_max=\"\"+s2[i]\n",
    "    \n",
    "    else:\n",
    "        curr_max=curr_max+s2[i]\n",
    "   \n",
    "        \n",
    "        \n",
    "    if len(max_so_far)<len(curr_max):\n",
    "        max_so_far=curr_max\n",
    "     \n",
    "    # return max_so far    \n",
    "\n",
    "print(max_so_far)\n",
    "len(max_so_far)"
   ]
  },
  {
   "cell_type": "code",
   "execution_count": 7,
   "id": "7c8290d3",
   "metadata": {},
   "outputs": [
    {
     "name": "stdout",
     "output_type": "stream",
     "text": [
      "0\n"
     ]
    }
   ],
   "source": [
    "s=\"\"\n",
    "s2=\" \"\n",
    "s2=\"aab\"\n",
    "s2=\"pwwkew\"\n",
    "s2=\"abcabacbb\"\n",
    "s2=\"dvdf\"\n",
    "m = {} \n",
    "ans = 0\n",
    "n = len(s)\n",
    "i = 0\n",
    "j = 0\n",
    "while j < n:\n",
    "    if s[j] in m:\n",
    "        i = max(i, m[s[j]])\n",
    "    ans = max(ans, j - i + 1)\n",
    "    m[s[j]] = j + 1\n",
    "    j += 1\n",
    "print(ans)"
   ]
  },
  {
   "cell_type": "code",
   "execution_count": 4,
   "id": "88a977da",
   "metadata": {},
   "outputs": [
    {
     "ename": "SyntaxError",
     "evalue": "invalid syntax (3675653560.py, line 20)",
     "output_type": "error",
     "traceback": [
      "\u001b[1;36m  File \u001b[1;32m\"C:\\Users\\hp\\AppData\\Local\\Temp\\ipykernel_14148\\3675653560.py\"\u001b[1;36m, line \u001b[1;32m20\u001b[0m\n\u001b[1;33m    s=\"\"\u001b[0m\n\u001b[1;37m    ^\u001b[0m\n\u001b[1;31mSyntaxError\u001b[0m\u001b[1;31m:\u001b[0m invalid syntax\n"
     ]
    }
   ],
   "source": [
    "def lol(s):   \n",
    "    if len(s)==0:\n",
    "        print('0')\n",
    "    string=s    \n",
    "    length = len(string)\n",
    "    beg = 0\n",
    "    end = 0\n",
    "    maxi = 0\n",
    "    for i in range(1,length):\n",
    "        if string[i] in string[beg:i]:\n",
    "            x= string[beg:i].index(string[i])\n",
    "            beg += x+1\n",
    "            end = i\n",
    "        else:\n",
    "            end = i\n",
    "        maxi=max(maxi,end-beg\n",
    "                 \n",
    "     #print(maxi+1) \n",
    "                 \n",
    "s=\"\"                 \n",
    "lol(s)                 "
   ]
  },
  {
   "cell_type": "code",
   "execution_count": 5,
   "id": "53be2342",
   "metadata": {},
   "outputs": [
    {
     "name": "stdout",
     "output_type": "stream",
     "text": [
      "hello\n"
     ]
    }
   ],
   "source": [
    "print('hello')"
   ]
  },
  {
   "cell_type": "code",
   "execution_count": null,
   "id": "4ef56920",
   "metadata": {},
   "outputs": [],
   "source": []
  }
 ],
 "metadata": {
  "kernelspec": {
   "display_name": "Python 3 (ipykernel)",
   "language": "python",
   "name": "python3"
  },
  "language_info": {
   "codemirror_mode": {
    "name": "ipython",
    "version": 3
   },
   "file_extension": ".py",
   "mimetype": "text/x-python",
   "name": "python",
   "nbconvert_exporter": "python",
   "pygments_lexer": "ipython3",
   "version": "3.9.12"
  }
 },
 "nbformat": 4,
 "nbformat_minor": 5
}
