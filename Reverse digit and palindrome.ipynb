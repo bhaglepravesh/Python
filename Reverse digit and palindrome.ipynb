{
 "cells": [
  {
   "cell_type": "code",
   "execution_count": 12,
   "id": "dbecac07",
   "metadata": {},
   "outputs": [],
   "source": [
    "def reverse(n, res=0):\n",
    "    if n == 0:\n",
    "        return res\n",
    "    else:\n",
    "        return reverse(n // 10, res * 10 + n % 10)"
   ]
  },
  {
   "cell_type": "code",
   "execution_count": 13,
   "id": "1ea73ea0",
   "metadata": {},
   "outputs": [
    {
     "data": {
      "text/plain": [
       "987654321"
      ]
     },
     "execution_count": 13,
     "metadata": {},
     "output_type": "execute_result"
    }
   ],
   "source": [
    "reverse(123456789)"
   ]
  },
  {
   "cell_type": "code",
   "execution_count": 3,
   "id": "24b6e0a7",
   "metadata": {},
   "outputs": [],
   "source": [
    "def reverse(n):\n",
    "    res=0\n",
    "    rem=0\n",
    "    while n>0:\n",
    "        rem=n%10\n",
    "        res=res*10+rem\n",
    "        n=n//10\n",
    "    return res"
   ]
  },
  {
   "cell_type": "code",
   "execution_count": 4,
   "id": "36c4cdda",
   "metadata": {},
   "outputs": [
    {
     "data": {
      "text/plain": [
       "987654321"
      ]
     },
     "execution_count": 4,
     "metadata": {},
     "output_type": "execute_result"
    }
   ],
   "source": [
    "reverse(123456789)"
   ]
  },
  {
   "cell_type": "code",
   "execution_count": 14,
   "id": "f85fa181",
   "metadata": {},
   "outputs": [],
   "source": [
    "def palindrome(n):\n",
    "    return n==reverse(n)"
   ]
  },
  {
   "cell_type": "code",
   "execution_count": 15,
   "id": "584dbbf6",
   "metadata": {},
   "outputs": [
    {
     "data": {
      "text/plain": [
       "True"
      ]
     },
     "execution_count": 15,
     "metadata": {},
     "output_type": "execute_result"
    }
   ],
   "source": [
    "palindrome(1234321)"
   ]
  },
  {
   "cell_type": "code",
   "execution_count": 16,
   "id": "5d21100e",
   "metadata": {},
   "outputs": [
    {
     "data": {
      "text/plain": [
       "False"
      ]
     },
     "execution_count": 16,
     "metadata": {},
     "output_type": "execute_result"
    }
   ],
   "source": [
    "palindrome(123421)"
   ]
  },
  {
   "cell_type": "code",
   "execution_count": null,
   "id": "c4283892",
   "metadata": {},
   "outputs": [],
   "source": []
  }
 ],
 "metadata": {
  "kernelspec": {
   "display_name": "Python 3 (ipykernel)",
   "language": "python",
   "name": "python3"
  },
  "language_info": {
   "codemirror_mode": {
    "name": "ipython",
    "version": 3
   },
   "file_extension": ".py",
   "mimetype": "text/x-python",
   "name": "python",
   "nbconvert_exporter": "python",
   "pygments_lexer": "ipython3",
   "version": "3.11.5"
  }
 },
 "nbformat": 4,
 "nbformat_minor": 5
}
