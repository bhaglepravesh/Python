{
 "cells": [
  {
   "cell_type": "code",
   "execution_count": 1,
   "id": "41c0925a",
   "metadata": {},
   "outputs": [],
   "source": [
    "def sort(l):\n",
    "    for i in range(len(l)-1):\n",
    "        if l[i]>l[i+1]:\n",
    "            return False\n",
    "    return True\n",
    "            "
   ]
  },
  {
   "cell_type": "code",
   "execution_count": 4,
   "id": "324a2047",
   "metadata": {},
   "outputs": [
    {
     "data": {
      "text/plain": [
       "True"
      ]
     },
     "execution_count": 4,
     "metadata": {},
     "output_type": "execute_result"
    }
   ],
   "source": [
    "sort([1,2,3,4,5,9])"
   ]
  },
  {
   "cell_type": "code",
   "execution_count": 6,
   "id": "14bb203e",
   "metadata": {},
   "outputs": [
    {
     "data": {
      "text/plain": [
       "False"
      ]
     },
     "execution_count": 6,
     "metadata": {},
     "output_type": "execute_result"
    }
   ],
   "source": [
    "sort([1,5,2,7,8,9])"
   ]
  },
  {
   "cell_type": "code",
   "execution_count": 10,
   "id": "7f3aa758",
   "metadata": {},
   "outputs": [],
   "source": [
    "def sort(l,index):\n",
    "    if index==len(l)-1:\n",
    "        return True\n",
    "    return l[index]<l[index+1] and sort(l,index+1)"
   ]
  },
  {
   "cell_type": "code",
   "execution_count": 12,
   "id": "269b3e72",
   "metadata": {},
   "outputs": [
    {
     "data": {
      "text/plain": [
       "True"
      ]
     },
     "execution_count": 12,
     "metadata": {},
     "output_type": "execute_result"
    }
   ],
   "source": [
    "sort([1,2,3,4,5,9],0)"
   ]
  },
  {
   "cell_type": "code",
   "execution_count": 13,
   "id": "2ff12b8a",
   "metadata": {},
   "outputs": [
    {
     "data": {
      "text/plain": [
       "False"
      ]
     },
     "execution_count": 13,
     "metadata": {},
     "output_type": "execute_result"
    }
   ],
   "source": [
    "sort([1,5,2,7,8,9],0)"
   ]
  },
  {
   "cell_type": "code",
   "execution_count": 14,
   "id": "629d81d5",
   "metadata": {},
   "outputs": [
    {
     "data": {
      "text/plain": [
       "False"
      ]
     },
     "execution_count": 14,
     "metadata": {},
     "output_type": "execute_result"
    }
   ],
   "source": [
    "sort([1,2,3,4,5,6,7,0],0)"
   ]
  }
 ],
 "metadata": {
  "kernelspec": {
   "display_name": "Python 3 (ipykernel)",
   "language": "python",
   "name": "python3"
  },
  "language_info": {
   "codemirror_mode": {
    "name": "ipython",
    "version": 3
   },
   "file_extension": ".py",
   "mimetype": "text/x-python",
   "name": "python",
   "nbconvert_exporter": "python",
   "pygments_lexer": "ipython3",
   "version": "3.11.5"
  }
 },
 "nbformat": 4,
 "nbformat_minor": 5
}
