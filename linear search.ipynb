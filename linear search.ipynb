{
 "cells": [
  {
   "cell_type": "code",
   "execution_count": 5,
   "id": "608cd4b1",
   "metadata": {},
   "outputs": [],
   "source": [
    "def linear(l,target):\n",
    "    for i in l:\n",
    "        if i==target:\n",
    "            return True\n",
    "    return False"
   ]
  },
  {
   "cell_type": "code",
   "execution_count": 6,
   "id": "22567c78",
   "metadata": {},
   "outputs": [
    {
     "data": {
      "text/plain": [
       "False"
      ]
     },
     "execution_count": 6,
     "metadata": {},
     "output_type": "execute_result"
    }
   ],
   "source": [
    "linear([1,2,3,6,9,2,5,7],15)"
   ]
  },
  {
   "cell_type": "code",
   "execution_count": 8,
   "id": "3236f367",
   "metadata": {},
   "outputs": [
    {
     "data": {
      "text/plain": [
       "True"
      ]
     },
     "execution_count": 8,
     "metadata": {},
     "output_type": "execute_result"
    }
   ],
   "source": [
    "linear([1,2,3,6,9,2,5,7],7)"
   ]
  },
  {
   "cell_type": "code",
   "execution_count": 15,
   "id": "dcda37e4",
   "metadata": {},
   "outputs": [],
   "source": [
    "def linear(l,target,index):\n",
    "    if index==len(l):\n",
    "        return False\n",
    "    return l[index]==target or linear(l,target,index+1)"
   ]
  },
  {
   "cell_type": "code",
   "execution_count": 17,
   "id": "2724c85d",
   "metadata": {},
   "outputs": [
    {
     "data": {
      "text/plain": [
       "False"
      ]
     },
     "execution_count": 17,
     "metadata": {},
     "output_type": "execute_result"
    }
   ],
   "source": [
    "linear([1,2,3,6,9,2,5,7],15,0)"
   ]
  },
  {
   "cell_type": "code",
   "execution_count": 18,
   "id": "9ec329fc",
   "metadata": {},
   "outputs": [],
   "source": [
    "def linear(l,target,index):\n",
    "    if index==len(l):\n",
    "        return -1\n",
    "    if l[index]==target:\n",
    "        return index\n",
    "    else:\n",
    "        return linear(l,target,index+1)"
   ]
  },
  {
   "cell_type": "code",
   "execution_count": 19,
   "id": "fdb55448",
   "metadata": {},
   "outputs": [
    {
     "data": {
      "text/plain": [
       "-1"
      ]
     },
     "execution_count": 19,
     "metadata": {},
     "output_type": "execute_result"
    }
   ],
   "source": [
    "linear([1,2,3,6,9,2,5,7],15,0)"
   ]
  },
  {
   "cell_type": "code",
   "execution_count": 20,
   "id": "f0a00106",
   "metadata": {},
   "outputs": [
    {
     "data": {
      "text/plain": [
       "0"
      ]
     },
     "execution_count": 20,
     "metadata": {},
     "output_type": "execute_result"
    }
   ],
   "source": [
    "linear([1,2,3,6,9,2,5,7],1,0)"
   ]
  },
  {
   "cell_type": "code",
   "execution_count": 21,
   "id": "554a8c92",
   "metadata": {},
   "outputs": [
    {
     "data": {
      "text/plain": [
       "7"
      ]
     },
     "execution_count": 21,
     "metadata": {},
     "output_type": "execute_result"
    }
   ],
   "source": [
    "linear([1,2,3,6,9,2,5,7],7,0)"
   ]
  },
  {
   "cell_type": "code",
   "execution_count": null,
   "id": "f4ca20ba",
   "metadata": {},
   "outputs": [],
   "source": []
  }
 ],
 "metadata": {
  "kernelspec": {
   "display_name": "Python 3 (ipykernel)",
   "language": "python",
   "name": "python3"
  },
  "language_info": {
   "codemirror_mode": {
    "name": "ipython",
    "version": 3
   },
   "file_extension": ".py",
   "mimetype": "text/x-python",
   "name": "python",
   "nbconvert_exporter": "python",
   "pygments_lexer": "ipython3",
   "version": "3.11.5"
  }
 },
 "nbformat": 4,
 "nbformat_minor": 5
}
