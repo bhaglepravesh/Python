{
 "cells": [
  {
   "cell_type": "code",
   "execution_count": 7,
   "id": "0467ff6f",
   "metadata": {},
   "outputs": [],
   "source": [
    "def ceil(l, target):\n",
    "    start = 0\n",
    "    end = len(l) - 1\n",
    "    \n",
    "    while start <= end:\n",
    "        mid = start + (end - start) // 2\n",
    "        \n",
    "        if l[mid] == target:\n",
    "            return l[mid]\n",
    "        elif l[mid] < target:\n",
    "            start = mid + 1\n",
    "        else:\n",
    "            end = mid - 1\n",
    "    \n",
    "    # If no exact match is found, `start` will be at the position of the smallest number >= target\n",
    "    if start < len(l):\n",
    "        return l[start]\n",
    "    return None  # Return None if the ceil does not exist\n"
   ]
  },
  {
   "cell_type": "code",
   "execution_count": 8,
   "id": "9113ef50",
   "metadata": {},
   "outputs": [],
   "source": [
    "def floor(l, target):\n",
    "    start = 0\n",
    "    end = len(l) - 1\n",
    "    \n",
    "    while start <= end:\n",
    "        mid = start + (end - start) // 2\n",
    "        \n",
    "        if l[mid] == target:\n",
    "            return l[mid]\n",
    "        elif l[mid] < target:\n",
    "            start = mid + 1\n",
    "        else:\n",
    "            end = mid - 1\n",
    "    \n",
    "    # If no exact match is found, `end` will point to the largest number <= target\n",
    "    if end >= 0:\n",
    "        return l[end]\n",
    "    return None  # Return None if the floor does not exist\n"
   ]
  },
  {
   "cell_type": "code",
   "execution_count": 9,
   "id": "edd31599",
   "metadata": {},
   "outputs": [
    {
     "name": "stdout",
     "output_type": "stream",
     "text": [
      "35\n"
     ]
    }
   ],
   "source": [
    "l = [1, 3, 5, 7, 8, 9, 11, 15, 35, 46, 47]\n",
    "result = ceil(l, 20)\n",
    "print(result)  # Output: 35\n"
   ]
  },
  {
   "cell_type": "code",
   "execution_count": 10,
   "id": "30ca89a2",
   "metadata": {},
   "outputs": [
    {
     "name": "stdout",
     "output_type": "stream",
     "text": [
      "15\n"
     ]
    }
   ],
   "source": [
    "result = floor(l, 20)\n",
    "print(result)  # Output: 15\n"
   ]
  },
  {
   "cell_type": "code",
   "execution_count": null,
   "id": "98a08ccb",
   "metadata": {},
   "outputs": [],
   "source": []
  }
 ],
 "metadata": {
  "kernelspec": {
   "display_name": "Python 3 (ipykernel)",
   "language": "python",
   "name": "python3"
  },
  "language_info": {
   "codemirror_mode": {
    "name": "ipython",
    "version": 3
   },
   "file_extension": ".py",
   "mimetype": "text/x-python",
   "name": "python",
   "nbconvert_exporter": "python",
   "pygments_lexer": "ipython3",
   "version": "3.11.5"
  }
 },
 "nbformat": 4,
 "nbformat_minor": 5
}
